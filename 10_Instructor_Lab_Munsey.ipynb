{
 "cells": [
  {
   "cell_type": "markdown",
   "id": "5116b85b-df7c-4807-bffb-a9714081ed3b",
   "metadata": {},
   "source": [
    "Week 10: Instructor-Led: Data Reduction <br>\n",
    "\n",
    "Author: Parker Munsey <br>\n",
    "Course: BGEN632 Grad. Intro. to Python <br> \n",
    "Term: Spring 2025 <br> \n",
    "Date Due: May 7th, 2025 <br> "
   ]
  },
  {
   "cell_type": "code",
   "execution_count": 3,
   "id": "8c0730da-2744-4a54-8bf4-fb18f5462f3b",
   "metadata": {},
   "outputs": [
    {
     "name": "stdout",
     "output_type": "stream",
     "text": [
      "Eigenvalues:\n",
      " [5.72134563e+00 1.07657967e+00 1.91383827e-01 9.31699632e-02\n",
      " 3.29143500e-02 1.27322677e-03 5.91421134e-22]\n"
     ]
    },
    {
     "data": {
      "image/png": "[encoded data removed]",
      "text/plain": [
       "<Figure size 800x500 with 1 Axes>"
      ]
     },
     "metadata": {},
     "output_type": "display_data"
    },
    {
     "name": "stdout",
     "output_type": "stream",
     "text": [
      "\n",
      "Confusion Matrix for Teaching:\n",
      "Teaching  Small/Rural  Teaching\n",
      "Cluster                        \n",
      "0                  44         2\n",
      "1                   0         3\n",
      "2                   0        12\n",
      "\n",
      "Confusion Matrix for TypeControl:\n",
      "TypeControl  City/County  District  Investor  Non Profit\n",
      "Cluster                                                 \n",
      "0                      2        14         3          27\n",
      "1                      0         0         0           3\n",
      "2                      5         0         0           7\n",
      "\n",
      "Confusion Matrix for DonorType:\n",
      "DonorType  Alumni  Charity\n",
      "Cluster                   \n",
      "0               2       44\n",
      "1               3        0\n",
      "2              12        0\n"
     ]
    }
   ],
   "source": [
    "# Import necessary libraries\n",
    "import pandas as pd\n",
    "from sklearn.preprocessing import StandardScaler\n",
    "from sklearn.decomposition import PCA\n",
    "from sklearn.cluster import KMeans\n",
    "import matplotlib.pyplot as plt\n",
    "import warnings\n",
    "warnings.filterwarnings(\"ignore\", category=UserWarning, module='sklearn.cluster._kmeans')\n",
    "\n",
    "\n",
    "# Load the dataset (use your path if running locally)\n",
    "hospital = pd.read_csv(r\"C:\\Users\\TechnellogicPC\\UTW\\Python\\week10labs\\calihospital.txt\", delimiter='\\t')\n",
    "\n",
    "# Select relevant numerical columns for PCA and clustering\n",
    "numerical_cols = ['NoFTE', 'NetPatRev', 'InOperExp', 'OutOperExp', 'OperRev', 'OperInc', 'AvlBeds']\n",
    "hospital_numeric = hospital[numerical_cols].dropna()\n",
    "\n",
    "# Standardize the data\n",
    "scaler = StandardScaler()\n",
    "scaled_data = scaler.fit_transform(hospital_numeric)\n",
    "\n",
    "# Run PCA\n",
    "pca = PCA()\n",
    "pca_data = pca.fit_transform(scaled_data)\n",
    "eigenvalues = pca.explained_variance_\n",
    "explained_var_ratio = pca.explained_variance_ratio_\n",
    "\n",
    "# Display eigenvalues\n",
    "print(\"Eigenvalues:\\n\", eigenvalues)\n",
    "\n",
    "# Create a scree plot\n",
    "plt.figure(figsize=(8, 5))\n",
    "plt.plot(range(1, len(eigenvalues) + 1), eigenvalues, marker='o')\n",
    "plt.title('Scree Plot')\n",
    "plt.xlabel('Principal Component')\n",
    "plt.ylabel('Eigenvalue')\n",
    "plt.grid(True)\n",
    "plt.tight_layout()\n",
    "plt.show()\n",
    "\n",
    "# Decide on number of clusters (e.g., k = 3)\n",
    "k = 3\n",
    "kmeans = KMeans(n_clusters=k, random_state=42)\n",
    "clusters = kmeans.fit_predict(scaled_data)\n",
    "\n",
    "# Add cluster labels to the original DataFrame\n",
    "hospital['Cluster'] = clusters\n",
    "\n",
    "# Create confusion matrices for categorical variables\n",
    "categorical_vars = ['Teaching', 'TypeControl', 'DonorType']\n",
    "for var in categorical_vars:\n",
    "    print(f\"\\nConfusion Matrix for {var}:\")\n",
    "    print(pd.crosstab(hospital['Cluster'], hospital[var]))\n",
    "\n"
   ]
  },
  {
   "cell_type": "markdown",
   "id": "69cb4002-38e1-4fdb-8bdf-638e5e242723",
   "metadata": {},
   "source": [
    "Based on the PCA results, the first two components have eigenvalues greater than (5.72 and 1.08). <br>\n",
    "\n",
    "According to Kaiser Criterion, only components with eigenvalues greater than 1 should be retained, which suggests keeping 2 components. <br>\n",
    "\n",
    "Additionally the scree plot show an elbow after the second component, indicating diminishing returns in variance explained.  Both criteria support reducing the data to 2 principal components for further analysis. <br> \n",
    "\n",
    "K-Means Clustering Justification <br> \n",
    "The selections of k=3 as a starting point for clustering based on explotory analysist. <br>\n",
    "This value allows for meaningful segmentation across potential hospital characteristics such as financial structure and teaching status. It also aligns with possible latent groupings in the PCA-reduced space. <br> \n",
    "\n",
    "Best Grouping Variable <br>\n",
    "Among the categorical variables analyzed (Teaching, TypeControl, and DonorType), the Teaching variable aligned best with the clusters. <br>\n",
    "The confusion matrix for Teaching showed that Cluster 0 consists almost entirely of \"Small/Rural\" hospitals, while Cluster 2 includes mostly \"Teaching\" hospitals, suggesting that the KMeans model effectively captured structural differences aligned with this feature."
   ]
  },
  {
   "cell_type": "markdown",
   "id": "b6fb1db4-91f0-4afd-a877-4959564a485d",
   "metadata": {},
   "source": [
    "References: <br>\n",
    "\n",
    "Pandas Documentation – Data manipulation and CSV loading <br>\n",
    "https://pandas.pydata.org/docs/ <br>\n",
    "\n",
    "Scikit-learn PCA and KMeans – Principal component analysis and clustering <br>\n",
    "https://scikit-learn.org/stable/modules/generated/sklearn.decomposition.PCA.html <br>\n",
    "https://scikit-learn.org/stable/modules/generated/sklearn.cluster.KMeans.html <br> \n",
    "\n",
    "Matplotlib Documentation – Scree plot visualization<br>\n",
    "https://matplotlib.org/stable/api/pyplot_api.html <br>\n",
    "\n"
   ]
  },
  {
   "cell_type": "code",
   "execution_count": null,
   "id": "a0cc951c-8a9e-43d5-a797-c53ecef88491",
   "metadata": {},
   "outputs": [],
   "source": []
  }
 ],
 "metadata": {
  "kernelspec": {
   "display_name": "Python 3 (ipykernel)",
   "language": "python",
   "name": "python3"
  },
  "language_info": {
   "codemirror_mode": {
    "name": "ipython",
    "version": 3
   },
   "file_extension": ".py",
   "mimetype": "text/x-python",
   "name": "python",
   "nbconvert_exporter": "python",
   "pygments_lexer": "ipython3",
   "version": "3.12.7"
  }
 },
 "nbformat": 4,
 "nbformat_minor": 5
}
